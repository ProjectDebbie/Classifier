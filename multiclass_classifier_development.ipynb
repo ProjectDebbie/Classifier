{
 "cells": [
  {
   "cell_type": "code",
   "execution_count": 4,
   "metadata": {},
   "outputs": [
    {
     "name": "stdout",
     "output_type": "stream",
     "text": [
      "The scikit-learn version is 0.24.1.\n"
     ]
    }
   ],
   "source": [
    "import os\n",
    "import shutil\n",
    "import sklearn\n",
    "print('The scikit-learn version is {}.'.format(sklearn.__version__))\n",
    "from sklearn.feature_extraction.text import CountVectorizer, TfidfTransformer\n",
    "from sklearn.linear_model import SGDClassifier\n",
    "from sklearn.model_selection import GridSearchCV\n",
    "from sklearn.metrics import multilabel_confusion_matrix\n",
    "import numpy as np\n",
    "import pandas as pd\n",
    "from shutil import copy2 \n",
    "import joblib\n",
    "import json\n",
    "from collections import Counter\n",
    "import matplotlib.pyplot as plt\n"
   ]
  },
  {
   "cell_type": "code",
   "execution_count": 5,
   "metadata": {},
   "outputs": [],
   "source": [
    "\n",
    "\n",
    "##INPUT FILES HERE ##\n",
    "#training set\n",
    "training_set = [os.path.join(\"/home/osnat/Documents/DEBBIE/classifier_development/multiclass_training_data/abstract_lake\", f) for f in os.listdir(\"/home/osnat/Documents/DEBBIE/classifier_development/multiclass_training_data/abstract_lake\")]\n",
    "\n",
    "#test_set \n",
    "test_set = [os.path.join(\"/home/osnat/Documents/DEBBIE/classifier_development/multiclass_test_set\", f) for f in os.listdir(\"/home/osnat/Documents/DEBBIE/classifier_development/multiclass_test_set\")]\n"
   ]
  },
  {
   "cell_type": "code",
   "execution_count": 6,
   "metadata": {},
   "outputs": [],
   "source": [
    "#making labels \n",
    "def make_labels(data):\n",
    "    files = data\n",
    "    file_list = []\n",
    "    train_labels = [None] * (len(files))\n",
    "    count = 0\n",
    "    docID = 0\n",
    "    for fil in files:\n",
    "        file_list.append(fil)\n",
    "        train_labels[docID] = 'non-relevant'\n",
    "        filepathTokens = fil.split('/')\n",
    "        lastToken = filepathTokens[len(filepathTokens) - 1]\n",
    "        if lastToken.startswith(\"clinic\"):\n",
    "            train_labels[docID] = 'clinical'\n",
    "            count = count + 1\n",
    "        elif lastToken.startswith(\"non_clinic\"):\n",
    "            train_labels[docID] = 'non-clinical'\n",
    "            count = count + 1\n",
    "        docID = docID + 1\n",
    "    combined_labels_files = dict(zip(train_labels, file_list))\n",
    "    return train_labels, file_list, combined_labels_files\n",
    "    \n",
    "\n",
    "#make labels for multiclass training and test set\n",
    "training_set_labels, file_list, combined_training = make_labels(training_set)\n",
    "test_set_labels, test_file_list, combined_testing  = make_labels(test_set)"
   ]
  },
  {
   "cell_type": "code",
   "execution_count": 7,
   "metadata": {},
   "outputs": [
    {
     "data": {
      "image/png": "[encoded data removed]",
      "text/plain": [
       "<Figure size 432x288 with 1 Axes>"
      ]
     },
     "metadata": {},
     "output_type": "display_data"
    }
   ],
   "source": [
    "# to represent the distribution of the training set in a circular diagram\n",
    "\n",
    "\n",
    "labels = ['non-relevant','non-clinical','clinical']\n",
    "\n",
    "sizes = list(dict(Counter(training_set_labels)).values())\n",
    "colours = {'non-relevant':'b','non-clinical':'g','clinical':'r'}\n",
    "plt.pie(sizes,colors=[colours[key] for key in labels],autopct='%1.1f%%')\n",
    "plt.legend(labels)\n",
    "plt.title('Overview of the training set')\n",
    "plt.show()"
   ]
  },
  {
   "cell_type": "code",
   "execution_count": 8,
   "metadata": {},
   "outputs": [
    {
     "data": {
      "image/png": "[encoded data removed]",
      "text/plain": [
       "<Figure size 432x288 with 1 Axes>"
      ]
     },
     "metadata": {},
     "output_type": "display_data"
    }
   ],
   "source": [
    "# to represent the distribution of the test:\n",
    "\n",
    "\n",
    "labels = ['non-relevant','non-clinical','clinical']\n",
    "\n",
    "sizes = list(dict(Counter(test_set_labels)).values())\n",
    "colours = {'non-relevant':'b','non-clinical':'g','clinical':'r'}\n",
    "plt.pie(sizes,colors=[colours[key] for key in labels],autopct='%1.1f%%')\n",
    "plt.legend(labels)\n",
    "plt.title('Overview of the polydioxanone test set')\n",
    "plt.show()"
   ]
  },
  {
   "cell_type": "code",
   "execution_count": 9,
   "metadata": {},
   "outputs": [],
   "source": [
    "##make a dictionary from the training set:\n",
    "count_vect = CountVectorizer(input='filename', ngram_range=(1,2), max_df=0.9, min_df=0.0, stop_words= 'english') #decode_error='ignore' input='filename', encoding='cp850'\n",
    "X_train_counts = count_vect.fit_transform(training_set)\n",
    "\n",
    "#tf_idf calculation for the words in the training_set\n",
    "tf_transformer = TfidfTransformer(use_idf= False).fit(X_train_counts)\n",
    "X_train_tf = tf_transformer.transform(X_train_counts)\n",
    "tfidf_transformer = TfidfTransformer()\n",
    "X_train_tfidf  = tfidf_transformer.fit_transform(X_train_counts)\n",
    "\n",
    "#bag of word and tf_idf of test set\n",
    "X_test_count = count_vect.transform(test_set)\n",
    "X_test_tfidf = tfidf_transformer.transform(X_test_count)\n"
   ]
  },
  {
   "cell_type": "code",
   "execution_count": 10,
   "metadata": {
    "scrolled": true
   },
   "outputs": [],
   "source": [
    "#train and test the the model\n",
    "\n",
    "#option I: SGD muticlass\n",
    "sgd_clf = SGDClassifier(loss= 'log', penalty= 'l1').fit(X_train_tfidf, training_set_labels)\n",
    "\n",
    "#test the model\n",
    "predicted = sgd_clf.predict(X_test_tfidf)\n",
    "\n",
    "#the results of the classification\n",
    "results = dict(zip(test_set, predicted))\n",
    "\n",
    "\n",
    "df_results = pd.DataFrame.from_dict(results, orient='index')\n"
   ]
  },
  {
   "cell_type": "code",
   "execution_count": 11,
   "metadata": {},
   "outputs": [],
   "source": [
    "#add line specifying study type for relevant studies\n",
    "\n",
    "relevant_abstracts = []\n",
    "not_relevant_abstracts = []\n",
    "\n",
    "for key, value in results.items():\n",
    "    if value == 'clinical':\n",
    "        relevant_abstracts.append(key)\n",
    "        with open (key, 'r+') as f:\n",
    "            content = f.read()\n",
    "            f.seek(0, 0)\n",
    "            f.write('study type= clinical (classifier)' + '\\n' + content)\n",
    "            copy2(key, '/home/osnat/Desktop/with_study_type')\n",
    "    elif value == 'non-clinical':\n",
    "        relevant_abstracts.append(key)\n",
    "        with open (key, 'r+') as f:\n",
    "            content = f.read()\n",
    "            f.seek(0, 0)\n",
    "            f.write('study type= non-clinical (classifier)' + '\\n' + content)\n",
    "            copy2(key, '/home/osnat/Desktop/with_study_type')\n",
    "    else:\n",
    "        not_relevant_abstracts.append(key)"
   ]
  },
  {
   "cell_type": "code",
   "execution_count": 12,
   "metadata": {},
   "outputs": [
    {
     "name": "stdout",
     "output_type": "stream",
     "text": [
      "            model batch name  precision  recall   F1\n",
      "0  multiclass SGD     binary        1.0     1.0  1.0\n"
     ]
    }
   ],
   "source": [
    " # check performance\n",
    "    \n",
    "from sklearn.metrics import precision_recall_fscore_support as score\n",
    "\n",
    "precision, recall, fscore, support = score(test_set_labels, predicted, average='weighted')\n",
    "\n",
    "df = pd.DataFrame(columns=['model','batch name','precision', 'recall' , 'F1'])\n",
    "performance = ['multiclass SGD', ]\n",
    "\n",
    "performance.append('binary')\n",
    "performance.append(precision)\n",
    "performance.append(recall)\n",
    "performance.append(fscore)\n",
    "\n",
    "df.loc[len(df)] = performance\n",
    "print(df)\n",
    "\n",
    "# if need to save runs:\n",
    "#df.to_csv('test_scores.csv',sep=' ', index=False, header=False, mode='a')"
   ]
  },
  {
   "cell_type": "code",
   "execution_count": 16,
   "metadata": {},
   "outputs": [
    {
     "data": {
      "text/plain": [
       "['transformer.pkl']"
      ]
     },
     "execution_count": 16,
     "metadata": {},
     "output_type": "execute_result"
    }
   ],
   "source": [
    "#create trained and compressed model\n",
    "joblib.dump(sgd_clf, 'svm_model.pkl', compress=9)\n",
    "joblib.dump(count_vect, 'count_vect.pkl', compress=9)\n",
    "joblib.dump(tfidf_transformer, 'transformer.pkl', compress=9)"
   ]
  },
  {
   "cell_type": "code",
   "execution_count": null,
   "metadata": {},
   "outputs": [],
   "source": []
  }
 ],
 "metadata": {
  "kernelspec": {
   "display_name": "Python 3",
   "language": "python",
   "name": "python3"
  },
  "language_info": {
   "codemirror_mode": {
    "name": "ipython",
    "version": 3
   },
   "file_extension": ".py",
   "mimetype": "text/x-python",
   "name": "python",
   "nbconvert_exporter": "python",
   "pygments_lexer": "ipython3",
   "version": "3.6.9"
  }
 },
 "nbformat": 4,
 "nbformat_minor": 2
}
